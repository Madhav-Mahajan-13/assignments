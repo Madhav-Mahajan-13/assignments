{
 "cells": [
  {
   "cell_type": "code",
   "execution_count": 2,
   "id": "3d3a4c44-846f-487e-8b68-0bd19c9e540f",
   "metadata": {},
   "outputs": [],
   "source": [
    "import pandas as pd\n",
    "from sklearn.utils import resample\n",
    "from sklearn.model_selection import train_test_split\n",
    "from sklearn.linear_model import LogisticRegression\n",
    "from sklearn.ensemble import RandomForestClassifier\n",
    "from sklearn.svm import SVC\n",
    "from sklearn.tree import DecisionTreeClassifier\n",
    "from sklearn.neighbors import KNeighborsClassifier\n",
    "from sklearn.metrics import accuracy_score"
   ]
  },
  {
   "cell_type": "code",
   "execution_count": 4,
   "id": "4b69d9ec-97ef-429b-831c-5be7af804e01",
   "metadata": {},
   "outputs": [],
   "source": [
    "file_path = \"Creditcard_data.csv\"  # Replace with your file path\n",
    "dataset = pd.read_csv(file_path)"
   ]
  },
  {
   "cell_type": "code",
   "execution_count": 5,
   "id": "6520a603-d843-4742-84ef-560fca0d83a2",
   "metadata": {},
   "outputs": [],
   "source": [
    "majority = dataset[dataset['Class'] == 0]\n",
    "minority = dataset[dataset['Class'] == 1]"
   ]
  },
  {
   "cell_type": "code",
   "execution_count": 6,
   "id": "ce3e30b0-05d1-42fb-bf77-2ecbc0b389d6",
   "metadata": {},
   "outputs": [],
   "source": [
    "minority_oversampled = resample(\n",
    "    minority, replace=True, n_samples=len(majority), random_state=42\n",
    ")\n"
   ]
  },
  {
   "cell_type": "code",
   "execution_count": 7,
   "id": "5861ecab-86bc-4f0d-ae00-1f36d7c05330",
   "metadata": {},
   "outputs": [],
   "source": [
    "balanced_dataset = pd.concat([majority, minority_oversampled]).sample(frac=1, random_state=42)\n"
   ]
  },
  {
   "cell_type": "code",
   "execution_count": 8,
   "id": "2e11b895-fe9a-4d51-ac0e-5d3a618c9b7b",
   "metadata": {},
   "outputs": [],
   "source": [
    "sample_size = int(0.2 * len(balanced_dataset))\n",
    "samples = {\n",
    "    f\"Sampling{i+1}\": balanced_dataset.sample(n=sample_size, random_state=42+i)\n",
    "    for i in range(5)\n",
    "}\n"
   ]
  },
  {
   "cell_type": "code",
   "execution_count": 13,
   "id": "11c1bdbe-02ae-4ec1-8183-068b48398099",
   "metadata": {},
   "outputs": [],
   "source": [
    "models = {\n",
    "    \"M1 (Logistic Regression)\": LogisticRegression(max_iter=2000, random_state=42),\n",
    "    \"M2 (Random Forest)\": RandomForestClassifier(random_state=42),\n",
    "    \"M3 (SVM)\": SVC(random_state=42),\n",
    "    \"M4 (Decision Tree)\": DecisionTreeClassifier(random_state=42),\n",
    "    \"M5 (K-Nearest Neighbors)\": KNeighborsClassifier()\n",
    "}"
   ]
  },
  {
   "cell_type": "code",
   "execution_count": 14,
   "id": "ccffdd19-bfe4-4fd7-a23b-76ec5a3bee8b",
   "metadata": {},
   "outputs": [
    {
     "name": "stdout",
     "output_type": "stream",
     "text": [
      "Accuracy Results (Columns are Samples, Rows are Models):\n",
      "                          Sampling1  Sampling2  Sampling3  Sampling4  \\\n",
      "M1 (Logistic Regression)   0.923913   0.913043   0.891304   0.880435   \n",
      "M2 (Random Forest)         1.000000   0.989130   0.989130   0.989130   \n",
      "M3 (SVM)                   0.641304   0.684783   0.706522   0.717391   \n",
      "M4 (Decision Tree)         0.978261   0.923913   0.934783   0.989130   \n",
      "M5 (K-Nearest Neighbors)   0.923913   0.956522   0.891304   0.945652   \n",
      "\n",
      "                          Sampling5  \n",
      "M1 (Logistic Regression)   0.891304  \n",
      "M2 (Random Forest)         1.000000  \n",
      "M3 (SVM)                   0.684783  \n",
      "M4 (Decision Tree)         0.989130  \n",
      "M5 (K-Nearest Neighbors)   0.902174  \n"
     ]
    }
   ],
   "source": [
    "results = {sample_name: {} for sample_name in samples.keys()}\n",
    "\n",
    "for sample_name, sample in samples.items():\n",
    "    # Split into features and target\n",
    "    X = sample.drop(columns=[\"Class\"])\n",
    "    y = sample[\"Class\"]\n",
    "    \n",
    "    # Train-test split\n",
    "    X_train, X_test, y_train, y_test = train_test_split(X, y, test_size=0.3, random_state=42)\n",
    "    \n",
    "    # Train each model\n",
    "    for model_name, model in models.items():\n",
    "        model.fit(X_train, y_train)\n",
    "        y_pred = model.predict(X_test)\n",
    "        accuracy = accuracy_score(y_test, y_pred)\n",
    "        results[sample_name][model_name] = accuracy\n",
    "\n",
    "# Step 5: Display results\n",
    "results_df = pd.DataFrame(results)\n",
    "print(\"Accuracy Results (Columns are Samples, Rows are Models):\")\n",
    "print(results_df)"
   ]
  },
  {
   "cell_type": "code",
   "execution_count": null,
   "id": "677f0013-e427-431a-86e5-5e6f33eb0e5b",
   "metadata": {},
   "outputs": [],
   "source": []
  },
  {
   "cell_type": "code",
   "execution_count": null,
   "id": "b7695fb8-58da-4f89-b10f-11eea9bed801",
   "metadata": {},
   "outputs": [],
   "source": []
  }
 ],
 "metadata": {
  "kernelspec": {
   "display_name": "Python 3 (ipykernel)",
   "language": "python",
   "name": "python3"
  },
  "language_info": {
   "codemirror_mode": {
    "name": "ipython",
    "version": 3
   },
   "file_extension": ".py",
   "mimetype": "text/x-python",
   "name": "python",
   "nbconvert_exporter": "python",
   "pygments_lexer": "ipython3",
   "version": "3.11.5"
  }
 },
 "nbformat": 4,
 "nbformat_minor": 5
}
